{
 "cells": [
  {
   "cell_type": "code",
   "execution_count": 3,
   "metadata": {},
   "outputs": [],
   "source": [
    "from tensorflow.keras.datasets import imdb\n",
    "from tensorflow.keras import preprocessing"
   ]
  },
  {
   "cell_type": "code",
   "execution_count": 8,
   "metadata": {},
   "outputs": [],
   "source": [
    "from tensorflow.keras.models import Sequential\n",
    "from tensorflow.keras.layers import Flatten, Dense"
   ]
  },
  {
   "cell_type": "code",
   "execution_count": 11,
   "metadata": {},
   "outputs": [],
   "source": [
    "from tensorflow.keras.layers import Embedding\n",
    "embedding_layer = Embedding(1000, 64)"
   ]
  },
  {
   "cell_type": "code",
   "execution_count": 4,
   "metadata": {},
   "outputs": [],
   "source": [
    "max_features = 10000\n",
    "maxlen = 20"
   ]
  },
  {
   "cell_type": "code",
   "execution_count": 5,
   "metadata": {},
   "outputs": [],
   "source": [
    "(x_train, y_train), (x_test, y_test) = imdb.load_data(num_words=max_features)"
   ]
  },
  {
   "cell_type": "code",
   "execution_count": 7,
   "metadata": {},
   "outputs": [],
   "source": [
    "x_train = preprocessing.sequence.pad_sequences(x_train, maxlen=maxlen)\n",
    "x_test = preprocessing.sequence.pad_sequences(x_test, maxlen=maxlen)"
   ]
  },
  {
   "cell_type": "code",
   "execution_count": 12,
   "metadata": {},
   "outputs": [
    {
     "name": "stdout",
     "output_type": "stream",
     "text": [
      "Model: \"sequential_1\"\n",
      "_________________________________________________________________\n",
      "Layer (type)                 Output Shape              Param #   \n",
      "=================================================================\n",
      "embedding_1 (Embedding)      (None, 20, 8)             80000     \n",
      "_________________________________________________________________\n",
      "flatten (Flatten)            (None, 160)               0         \n",
      "_________________________________________________________________\n",
      "dense (Dense)                (None, 1)                 161       \n",
      "=================================================================\n",
      "Total params: 80,161\n",
      "Trainable params: 80,161\n",
      "Non-trainable params: 0\n",
      "_________________________________________________________________\n"
     ]
    }
   ],
   "source": [
    "model = Sequential()\n",
    "model.add(Embedding(10000, 8, input_length=maxlen))\n",
    "model.add(Flatten())\n",
    "model.add(Dense(1, activation='sigmoid'))\n",
    "model.compile(optimizer='rmsprop', loss='binary_crossentropy', metrics=['acc'])\n",
    "model.summary()\n"
   ]
  },
  {
   "cell_type": "code",
   "execution_count": 13,
   "metadata": {},
   "outputs": [
    {
     "name": "stdout",
     "output_type": "stream",
     "text": [
      "Train on 20000 samples, validate on 5000 samples\n",
      "Epoch 1/10\n",
      "20000/20000 [==============================] - 10s 513us/sample - loss: 0.6642 - acc: 0.6364 - val_loss: 0.6113 - val_acc: 0.6992\n",
      "Epoch 2/10\n",
      "20000/20000 [==============================] - 2s 124us/sample - loss: 0.5373 - acc: 0.7517 - val_loss: 0.5253 - val_acc: 0.7290\n",
      "Epoch 3/10\n",
      "20000/20000 [==============================] - 2s 114us/sample - loss: 0.4605 - acc: 0.7891 - val_loss: 0.5015 - val_acc: 0.7446\n",
      "Epoch 4/10\n",
      "20000/20000 [==============================] - 2s 105us/sample - loss: 0.4213 - acc: 0.8119 - val_loss: 0.4949 - val_acc: 0.7560\n",
      "Epoch 5/10\n",
      "20000/20000 [==============================] - 2s 105us/sample - loss: 0.3939 - acc: 0.8275 - val_loss: 0.4927 - val_acc: 0.7578\n",
      "Epoch 6/10\n",
      "20000/20000 [==============================] - 2s 114us/sample - loss: 0.3703 - acc: 0.8393 - val_loss: 0.4964 - val_acc: 0.7574\n",
      "Epoch 7/10\n",
      "20000/20000 [==============================] - 2s 108us/sample - loss: 0.3496 - acc: 0.8497 - val_loss: 0.4985 - val_acc: 0.7598\n",
      "Epoch 8/10\n",
      "20000/20000 [==============================] - 2s 107us/sample - loss: 0.3302 - acc: 0.8598 - val_loss: 0.5050 - val_acc: 0.7568\n",
      "Epoch 9/10\n",
      "20000/20000 [==============================] - 2s 115us/sample - loss: 0.3114 - acc: 0.8715 - val_loss: 0.5111 - val_acc: 0.7536\n",
      "Epoch 10/10\n",
      "20000/20000 [==============================] - 2s 123us/sample - loss: 0.2933 - acc: 0.8800 - val_loss: 0.5194 - val_acc: 0.7528\n"
     ]
    }
   ],
   "source": [
    "history = model.fit(x_train, y_train,epochs=10,batch_size=32,validation_split=0.2)"
   ]
  },
  {
   "cell_type": "code",
   "execution_count": null,
   "metadata": {},
   "outputs": [],
   "source": []
  }
 ],
 "metadata": {
  "kernelspec": {
   "display_name": "Python 3",
   "language": "python",
   "name": "python3"
  },
  "language_info": {
   "codemirror_mode": {
    "name": "ipython",
    "version": 3
   },
   "file_extension": ".py",
   "mimetype": "text/x-python",
   "name": "python",
   "nbconvert_exporter": "python",
   "pygments_lexer": "ipython3",
   "version": "3.7.3"
  }
 },
 "nbformat": 4,
 "nbformat_minor": 2
}
